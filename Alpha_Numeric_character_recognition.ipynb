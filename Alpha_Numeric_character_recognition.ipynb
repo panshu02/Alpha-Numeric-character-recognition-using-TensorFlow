{
  "nbformat": 4,
  "nbformat_minor": 0,
  "metadata": {
    "colab": {
      "name": "Alpha-Numeric character recognition.ipynb",
      "provenance": [],
      "collapsed_sections": []
    },
    "kernelspec": {
      "name": "python3",
      "display_name": "Python 3"
    },
    "language_info": {
      "name": "python"
    },
    "accelerator": "GPU",
    "gpuClass": "standard"
  },
  "cells": [
    {
      "cell_type": "markdown",
      "source": [
        "Importing TensorFlow"
      ],
      "metadata": {
        "id": "VnpXTgRie9ko"
      }
    },
    {
      "cell_type": "code",
      "execution_count": 1,
      "metadata": {
        "id": "LXdWwKzAz_J0"
      },
      "outputs": [],
      "source": [
        "import tensorflow as tf"
      ]
    },
    {
      "cell_type": "code",
      "source": [
        "tf.__version__"
      ],
      "metadata": {
        "colab": {
          "base_uri": "https://localhost:8080/",
          "height": 36
        },
        "id": "YCUId8wF0mZs",
        "outputId": "a66e3a85-7179-4aba-96da-efc37495ed96"
      },
      "execution_count": 2,
      "outputs": [
        {
          "output_type": "execute_result",
          "data": {
            "text/plain": [
              "'2.8.2'"
            ],
            "application/vnd.google.colaboratory.intrinsic+json": {
              "type": "string"
            }
          },
          "metadata": {},
          "execution_count": 2
        }
      ]
    },
    {
      "cell_type": "markdown",
      "source": [
        "Importing Dataset Library"
      ],
      "metadata": {
        "id": "wN0i4nOVfCQ2"
      }
    },
    {
      "cell_type": "code",
      "source": [
        "!pip install emnist\n",
        "import emnist"
      ],
      "metadata": {
        "colab": {
          "base_uri": "https://localhost:8080/"
        },
        "id": "rDgvphvt0V_W",
        "outputId": "95083da1-d4c0-45d9-ac73-6b6c175265d6"
      },
      "execution_count": 3,
      "outputs": [
        {
          "output_type": "stream",
          "name": "stdout",
          "text": [
            "Looking in indexes: https://pypi.org/simple, https://us-python.pkg.dev/colab-wheels/public/simple/\n",
            "Requirement already satisfied: emnist in /usr/local/lib/python3.7/dist-packages (0.0)\n",
            "Requirement already satisfied: numpy in /usr/local/lib/python3.7/dist-packages (from emnist) (1.21.6)\n",
            "Requirement already satisfied: requests in /usr/local/lib/python3.7/dist-packages (from emnist) (2.23.0)\n",
            "Requirement already satisfied: tqdm in /usr/local/lib/python3.7/dist-packages (from emnist) (4.64.0)\n",
            "Requirement already satisfied: idna<3,>=2.5 in /usr/local/lib/python3.7/dist-packages (from requests->emnist) (2.10)\n",
            "Requirement already satisfied: certifi>=2017.4.17 in /usr/local/lib/python3.7/dist-packages (from requests->emnist) (2022.6.15)\n",
            "Requirement already satisfied: chardet<4,>=3.0.2 in /usr/local/lib/python3.7/dist-packages (from requests->emnist) (3.0.4)\n",
            "Requirement already satisfied: urllib3!=1.25.0,!=1.25.1,<1.26,>=1.21.1 in /usr/local/lib/python3.7/dist-packages (from requests->emnist) (1.24.3)\n"
          ]
        }
      ]
    },
    {
      "cell_type": "code",
      "source": [
        "from emnist import list_datasets\n",
        "list_datasets()"
      ],
      "metadata": {
        "colab": {
          "base_uri": "https://localhost:8080/"
        },
        "id": "NeLdKKel06GW",
        "outputId": "3efc656a-8996-4349-fdb8-3cb145af8b4d"
      },
      "execution_count": 4,
      "outputs": [
        {
          "output_type": "execute_result",
          "data": {
            "text/plain": [
              "['balanced', 'byclass', 'bymerge', 'digits', 'letters', 'mnist']"
            ]
          },
          "metadata": {},
          "execution_count": 4
        }
      ]
    },
    {
      "cell_type": "markdown",
      "source": [
        "Extracting 62 class data which has every digit from 0 to 9 and capital and small versions of all english letters"
      ],
      "metadata": {
        "id": "VYMjRAOVfIN6"
      }
    },
    {
      "cell_type": "code",
      "source": [
        "from emnist import extract_training_samples\n",
        "images, labels = extract_training_samples('byclass')"
      ],
      "metadata": {
        "id": "MJ9bPb1s1RwP"
      },
      "execution_count": 5,
      "outputs": []
    },
    {
      "cell_type": "code",
      "source": [
        "import matplotlib.pyplot as plt\n",
        "plt.style.use('ggplot')"
      ],
      "metadata": {
        "id": "SOQaqMbo1m9i"
      },
      "execution_count": 6,
      "outputs": []
    },
    {
      "cell_type": "markdown",
      "source": [
        "First image in the dataset"
      ],
      "metadata": {
        "id": "DAVtK0NhfW5-"
      }
    },
    {
      "cell_type": "code",
      "source": [
        "plt.imshow(images[0])\n",
        "plt.show()"
      ],
      "metadata": {
        "colab": {
          "base_uri": "https://localhost:8080/",
          "height": 265
        },
        "id": "0CDj20E01tU_",
        "outputId": "33e300c5-921e-4e93-d552-9b48c18d4112"
      },
      "execution_count": 7,
      "outputs": [
        {
          "output_type": "display_data",
          "data": {
            "text/plain": [
              "<Figure size 432x288 with 1 Axes>"
            ],
            "image/png": "[encoded data removed]"
          },
          "metadata": {}
        }
      ]
    },
    {
      "cell_type": "code",
      "source": [
        "labels[0]"
      ],
      "metadata": {
        "colab": {
          "base_uri": "https://localhost:8080/"
        },
        "id": "vTWEA2xL12-Y",
        "outputId": "9fde1388-ddda-4a78-d1bf-53d60cc50ae5"
      },
      "execution_count": 8,
      "outputs": [
        {
          "output_type": "execute_result",
          "data": {
            "text/plain": [
              "35"
            ]
          },
          "metadata": {},
          "execution_count": 8
        }
      ]
    },
    {
      "cell_type": "code",
      "source": [
        "n_classes = len(set(labels))      # No of total classes\n",
        "n_classes"
      ],
      "metadata": {
        "colab": {
          "base_uri": "https://localhost:8080/"
        },
        "id": "_0zcGn_t3hR3",
        "outputId": "a0d7f5e9-def0-4336-fc31-3fa856926f69"
      },
      "execution_count": 9,
      "outputs": [
        {
          "output_type": "execute_result",
          "data": {
            "text/plain": [
              "62"
            ]
          },
          "metadata": {},
          "execution_count": 9
        }
      ]
    },
    {
      "cell_type": "code",
      "source": [
        "from sklearn.model_selection import train_test_split\n",
        "from tensorflow.keras.utils import to_categorical"
      ],
      "metadata": {
        "id": "dZCGb9g530wa"
      },
      "execution_count": 10,
      "outputs": []
    },
    {
      "cell_type": "markdown",
      "source": [
        "One-Hot encoding the class labels from 0 to 61 (inclusive)"
      ],
      "metadata": {
        "id": "ODcbzAA9fhdJ"
      }
    },
    {
      "cell_type": "code",
      "source": [
        "labels = to_categorical(labels)"
      ],
      "metadata": {
        "id": "SAeS1---3_fk"
      },
      "execution_count": 11,
      "outputs": []
    },
    {
      "cell_type": "code",
      "source": [
        "import numpy as np"
      ],
      "metadata": {
        "id": "FV2T_6L65FnG"
      },
      "execution_count": 12,
      "outputs": []
    },
    {
      "cell_type": "code",
      "source": [
        "np.shape(labels[0])"
      ],
      "metadata": {
        "colab": {
          "base_uri": "https://localhost:8080/"
        },
        "id": "Er8CXRiR4hUy",
        "outputId": "ae96b50a-142b-407b-8eb1-f636689e463c"
      },
      "execution_count": 13,
      "outputs": [
        {
          "output_type": "execute_result",
          "data": {
            "text/plain": [
              "(62,)"
            ]
          },
          "metadata": {},
          "execution_count": 13
        }
      ]
    },
    {
      "cell_type": "markdown",
      "source": [
        "Splitting the dataset into train and test"
      ],
      "metadata": {
        "id": "WQRHCfNgfnxX"
      }
    },
    {
      "cell_type": "code",
      "source": [
        "train_images, test_images, train_labels, test_labels = train_test_split(images, labels, test_size = 0.2, random_state = 7)"
      ],
      "metadata": {
        "id": "RPr3I-Y15KGh"
      },
      "execution_count": 14,
      "outputs": []
    },
    {
      "cell_type": "code",
      "source": [
        "print(np.shape(train_images),\n",
        "np.shape(test_images),'\\n',\n",
        "np.shape(train_labels),\n",
        "np.shape(test_labels))"
      ],
      "metadata": {
        "colab": {
          "base_uri": "https://localhost:8080/"
        },
        "id": "gToi9e_M5zRf",
        "outputId": "f3fe87dc-42e6-4330-ab84-b22c60b3b57f"
      },
      "execution_count": 15,
      "outputs": [
        {
          "output_type": "stream",
          "name": "stdout",
          "text": [
            "(558345, 28, 28) (139587, 28, 28) \n",
            " (558345, 62) (139587, 62)\n"
          ]
        }
      ]
    },
    {
      "cell_type": "markdown",
      "source": [
        "First train dataset image"
      ],
      "metadata": {
        "id": "ICStESi4fu8f"
      }
    },
    {
      "cell_type": "code",
      "source": [
        "plt.imshow(train_images[0])\n",
        "plt.show()"
      ],
      "metadata": {
        "colab": {
          "base_uri": "https://localhost:8080/",
          "height": 265
        },
        "id": "e9GUfUPo9fXh",
        "outputId": "4f819cfa-bada-47b4-c077-890ab1a7ec92"
      },
      "execution_count": 16,
      "outputs": [
        {
          "output_type": "display_data",
          "data": {
            "text/plain": [
              "<Figure size 432x288 with 1 Axes>"
            ],
            "image/png": "[encoded data removed]"
          },
          "metadata": {}
        }
      ]
    },
    {
      "cell_type": "code",
      "source": [
        "train_labels[0]"
      ],
      "metadata": {
        "colab": {
          "base_uri": "https://localhost:8080/"
        },
        "id": "EJGNpJA7AOrY",
        "outputId": "41f6664f-856e-4e9d-ac83-220c3b784136"
      },
      "execution_count": 17,
      "outputs": [
        {
          "output_type": "execute_result",
          "data": {
            "text/plain": [
              "array([0., 0., 0., 0., 0., 0., 0., 0., 0., 0., 0., 0., 0., 0., 0., 0., 0.,\n",
              "       0., 0., 0., 0., 0., 0., 0., 0., 0., 0., 0., 0., 0., 0., 0., 0., 0.,\n",
              "       0., 0., 0., 0., 0., 0., 0., 0., 0., 1., 0., 0., 0., 0., 0., 0., 0.,\n",
              "       0., 0., 0., 0., 0., 0., 0., 0., 0., 0., 0.], dtype=float32)"
            ]
          },
          "metadata": {},
          "execution_count": 17
        }
      ]
    },
    {
      "cell_type": "code",
      "source": [
        "train_images = train_images.reshape((-1, 28*28))\n",
        "test_images = test_images.reshape((-1, 28*28))"
      ],
      "metadata": {
        "id": "P8DaSbxLSR-A"
      },
      "execution_count": 18,
      "outputs": []
    },
    {
      "cell_type": "markdown",
      "source": [
        "Standardizing train and test images"
      ],
      "metadata": {
        "id": "o_L6CMmxfzBV"
      }
    },
    {
      "cell_type": "code",
      "source": [
        "img_mean = np.mean(train_images)\n",
        "img_std = np.std(train_images)\n",
        "train_images = (train_images-img_mean)/img_std\n",
        "test_images = (test_images-img_mean)/img_std"
      ],
      "metadata": {
        "id": "sbQ0l11rR4yb"
      },
      "execution_count": 19,
      "outputs": []
    },
    {
      "cell_type": "code",
      "source": [
        "np.shape(train_images)"
      ],
      "metadata": {
        "colab": {
          "base_uri": "https://localhost:8080/"
        },
        "id": "qfBJ3la0TAp5",
        "outputId": "d156fa5c-8ec7-4373-8d8d-99b038751723"
      },
      "execution_count": 20,
      "outputs": [
        {
          "output_type": "execute_result",
          "data": {
            "text/plain": [
              "(558345, 784)"
            ]
          },
          "metadata": {},
          "execution_count": 20
        }
      ]
    },
    {
      "cell_type": "markdown",
      "source": [
        "Training the network"
      ],
      "metadata": {
        "id": "59m83PUEf3xU"
      }
    },
    {
      "cell_type": "code",
      "source": [
        "from tensorflow.keras.layers import Dense\n",
        "from tensorflow.keras.models import Sequential"
      ],
      "metadata": {
        "id": "aNu0EKGV6Rkk"
      },
      "execution_count": 21,
      "outputs": []
    },
    {
      "cell_type": "markdown",
      "source": [
        "Network Framework"
      ],
      "metadata": {
        "id": "vicpW9Fqf6eB"
      }
    },
    {
      "cell_type": "code",
      "source": [
        "ANN = Sequential()\n",
        "ANN.add(Dense(units = 64, activation = 'relu', use_bias = True))\n",
        "ANN.add(Dense(units = 64, activation = 'relu'))\n",
        "ANN.add(Dense(units = n_classes, activation = 'softmax'))"
      ],
      "metadata": {
        "id": "iAKuBvqW7kl3"
      },
      "execution_count": 22,
      "outputs": []
    },
    {
      "cell_type": "code",
      "source": [
        "ANN.compile(optimizer = 'adam', loss = 'categorical_crossentropy', metrics = ['accuracy'])"
      ],
      "metadata": {
        "id": "o8gZfmDs-TCz"
      },
      "execution_count": 23,
      "outputs": []
    },
    {
      "cell_type": "markdown",
      "source": [
        "Training the network"
      ],
      "metadata": {
        "id": "swCoTa2zgWxy"
      }
    },
    {
      "cell_type": "code",
      "source": [
        "ANN.fit(train_images, train_labels, epochs = 5)"
      ],
      "metadata": {
        "colab": {
          "base_uri": "https://localhost:8080/"
        },
        "id": "ntf6vYjv-lP1",
        "outputId": "27649e84-cfcc-4e45-e9d5-a025923afe0f"
      },
      "execution_count": 24,
      "outputs": [
        {
          "output_type": "stream",
          "name": "stdout",
          "text": [
            "Epoch 1/5\n",
            "17449/17449 [==============================] - 44s 2ms/step - loss: 0.7438 - accuracy: 0.7660\n",
            "Epoch 2/5\n",
            "17449/17449 [==============================] - 37s 2ms/step - loss: 0.5874 - accuracy: 0.8049\n",
            "Epoch 3/5\n",
            "17449/17449 [==============================] - 38s 2ms/step - loss: 0.5622 - accuracy: 0.8109\n",
            "Epoch 4/5\n",
            "17449/17449 [==============================] - 37s 2ms/step - loss: 0.5490 - accuracy: 0.8147\n",
            "Epoch 5/5\n",
            "17449/17449 [==============================] - 37s 2ms/step - loss: 0.5414 - accuracy: 0.8166\n"
          ]
        },
        {
          "output_type": "execute_result",
          "data": {
            "text/plain": [
              "<keras.callbacks.History at 0x7fe87ce0a490>"
            ]
          },
          "metadata": {},
          "execution_count": 24
        }
      ]
    },
    {
      "cell_type": "markdown",
      "source": [
        "Evaluating the network on the test dataset"
      ],
      "metadata": {
        "id": "SbWjzBDEgZMD"
      }
    },
    {
      "cell_type": "code",
      "source": [
        "loss, accuracy = ANN.evaluate(test_images, test_labels)"
      ],
      "metadata": {
        "colab": {
          "base_uri": "https://localhost:8080/"
        },
        "id": "uqez8-4yGvv6",
        "outputId": "9cd5ac64-e365-4a7b-b53b-72a2ba29e795"
      },
      "execution_count": 25,
      "outputs": [
        {
          "output_type": "stream",
          "name": "stdout",
          "text": [
            "4363/4363 [==============================] - 7s 1ms/step - loss: 0.5593 - accuracy: 0.8133\n"
          ]
        }
      ]
    },
    {
      "cell_type": "markdown",
      "source": [
        "Obtaining label predictions"
      ],
      "metadata": {
        "id": "j_kK0hGPgcSF"
      }
    },
    {
      "cell_type": "code",
      "source": [
        "pred_labels = ANN.predict(test_images)"
      ],
      "metadata": {
        "id": "4P_xI517Ui9o"
      },
      "execution_count": 26,
      "outputs": []
    },
    {
      "cell_type": "code",
      "source": [
        "np.shape(pred_labels)"
      ],
      "metadata": {
        "colab": {
          "base_uri": "https://localhost:8080/"
        },
        "id": "92LJA0AAU4bV",
        "outputId": "cef3ee16-19f8-494d-8f4e-ba36f06c651c"
      },
      "execution_count": 27,
      "outputs": [
        {
          "output_type": "execute_result",
          "data": {
            "text/plain": [
              "(139587, 62)"
            ]
          },
          "metadata": {},
          "execution_count": 27
        }
      ]
    },
    {
      "cell_type": "code",
      "source": [
        "start_ind = 0"
      ],
      "metadata": {
        "id": "pCIKh1IUVbLB"
      },
      "execution_count": 28,
      "outputs": []
    },
    {
      "cell_type": "markdown",
      "source": [
        "Class Dictionary for referencing class labels and obtaining corresponding character"
      ],
      "metadata": {
        "id": "9QoPtqtWgKaK"
      }
    },
    {
      "cell_type": "code",
      "source": [
        "class_dic = {}\n",
        "for i in range(10):\n",
        "  class_dic[i] = i\n",
        "for i in range(26):\n",
        "  class_dic[10+i] = chr(65+i)\n",
        "  class_dic[10+26+i] = chr(97+i)"
      ],
      "metadata": {
        "id": "8kPVGP-lWO2J"
      },
      "execution_count": 29,
      "outputs": []
    },
    {
      "cell_type": "markdown",
      "source": [
        "Plotting 25 images from 'start_ind' and comparing their predictions"
      ],
      "metadata": {
        "id": "ofXOhByagltQ"
      }
    },
    {
      "cell_type": "code",
      "source": [
        "plt.figure(figsize = (14, 14))\n",
        "\n",
        "for i in range(25):\n",
        "  plt.subplot(5, 5, i+1)\n",
        "  plt.xticks([])\n",
        "  plt.yticks([])\n",
        "  pred = np.argmax(pred_labels[start_ind+i])\n",
        "  real_val = np.argmax(test_labels[start_ind+i])\n",
        "\n",
        "  col = 'g'\n",
        "  if pred != real_val:\n",
        "    col = 'r'\n",
        "  \n",
        "  plt.xlabel(\"Img= {}, Char= {}, Pred= {}\".format(i+start_ind+1, class_dic[real_val], class_dic[pred]), color = col)\n",
        "  plt.imshow(test_images[start_ind+i].reshape((28,28)))\n",
        "  \n",
        "plt.show()"
      ],
      "metadata": {
        "colab": {
          "base_uri": "https://localhost:8080/",
          "height": 809
        },
        "id": "opsVP_xAVDx6",
        "outputId": "70c824e6-ab7e-49b7-bd4b-8b85978af10a"
      },
      "execution_count": 30,
      "outputs": [
        {
          "output_type": "display_data",
          "data": {
            "text/plain": [
              "<Figure size 1008x1008 with 25 Axes>"
            ],
            "image/png": "[encoded data removed]"
          },
          "metadata": {}
        }
      ]
    }
  ]
}